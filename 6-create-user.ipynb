{
 "cells": [
  {
   "cell_type": "code",
   "execution_count": 2,
   "id": "801a7c4b",
   "metadata": {},
   "outputs": [],
   "source": [
    "from pymilvus import connections, utility, Role\n",
    "import os\n",
    "\n",
    "HOST = os.environ['MILVUS_HOST']\n",
    "PORT = os.environ['MILVUS_PORT']\n",
    "USER = os.environ['MILVUS_USER']\n",
    "PASS = os.environ['MILVUS_PASS']"
   ]
  },
  {
   "cell_type": "code",
   "execution_count": 3,
   "id": "574118e7",
   "metadata": {},
   "outputs": [],
   "source": [
    "conn = connections.connect(\n",
    "    user=USER,\n",
    "    password=PASS,\n",
    "    host=HOST,\n",
    "    port=PORT\n",
    ")"
   ]
  },
  {
   "cell_type": "markdown",
   "id": "1ee0ee2a",
   "metadata": {},
   "source": [
    "Create a role \"readonly\" that has has the following privileges:\n",
    "\n",
    "- Load (Load an index)\n",
    "- Release (Release an index)\n",
    "- Query (Run a vector query)\n",
    "- Search (Run a structured query)\n",
    "\n",
    "A full list of privileges can be found in the Milvus documentation: [Users and Roles](https://milvus.io/docs/users_and_roles.md#Users-and-Roles)."
   ]
  },
  {
   "cell_type": "code",
   "execution_count": 4,
   "id": "ea5021ab",
   "metadata": {},
   "outputs": [],
   "source": [
    "role = Role('read_only')\n",
    "role.create()"
   ]
  },
  {
   "cell_type": "code",
   "execution_count": 5,
   "id": "ed06319b",
   "metadata": {},
   "outputs": [],
   "source": [
    "role.grant(\"Collection\", 'unsplash_lite', 'Load')\n",
    "role.grant(\"Collection\", 'unsplash_lite', 'Release')\n",
    "role.grant(\"Collection\", 'unsplash_lite', 'Query')\n",
    "role.grant(\"Collection\", 'unsplash_lite', 'Search')"
   ]
  },
  {
   "cell_type": "markdown",
   "id": "006e91d5",
   "metadata": {},
   "source": [
    "Now we can create a user with this role assigned to it in the default database."
   ]
  },
  {
   "cell_type": "code",
   "execution_count": 6,
   "id": "4a157d93",
   "metadata": {},
   "outputs": [],
   "source": [
    "utility.create_user('streamlit_read_only', 'badpassword', using='default')"
   ]
  },
  {
   "cell_type": "code",
   "execution_count": 7,
   "id": "f551b90c",
   "metadata": {},
   "outputs": [
    {
     "data": {
      "text/plain": [
       "('streamlit_read_only',)"
      ]
     },
     "execution_count": 7,
     "metadata": {},
     "output_type": "execute_result"
    }
   ],
   "source": [
    "role.add_user('streamlit_read_only')\n",
    "role.get_users()"
   ]
  },
  {
   "cell_type": "code",
   "execution_count": null,
   "id": "9d806f17",
   "metadata": {},
   "outputs": [],
   "source": []
  }
 ],
 "metadata": {
  "kernelspec": {
   "display_name": "Python [conda env:vectordb]",
   "language": "python",
   "name": "conda-env-vectordb-py"
  },
  "language_info": {
   "codemirror_mode": {
    "name": "ipython",
    "version": 3
   },
   "file_extension": ".py",
   "mimetype": "text/x-python",
   "name": "python",
   "nbconvert_exporter": "python",
   "pygments_lexer": "ipython3",
   "version": "3.9.18"
  }
 },
 "nbformat": 4,
 "nbformat_minor": 5
}
