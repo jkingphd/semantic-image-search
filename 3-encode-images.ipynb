{
 "cells": [
  {
   "cell_type": "code",
   "execution_count": 1,
   "id": "6fd28b3a",
   "metadata": {},
   "outputs": [],
   "source": [
    "from tqdm import tqdm\n",
    "from PIL import Image\n",
    "import pandas as pd\n",
    "import numpy as np\n",
    "import open_clip\n",
    "import torch\n",
    "import h5py\n",
    "import glob\n",
    "\n",
    "target = 'hf-hub:laion/CLIP-ViT-B-16-laion2B-s34B-b88K'\n",
    "device = torch.device('cuda:0')"
   ]
  },
  {
   "cell_type": "markdown",
   "id": "a283d402",
   "metadata": {},
   "source": [
    "Load model, preprocess, and tokenizer."
   ]
  },
  {
   "cell_type": "code",
   "execution_count": 2,
   "id": "00dbc473",
   "metadata": {
    "scrolled": true
   },
   "outputs": [
    {
     "data": {
      "text/plain": [
       "CLIP(\n",
       "  (visual): VisionTransformer(\n",
       "    (patchnorm_pre_ln): Identity()\n",
       "    (conv1): Conv2d(3, 768, kernel_size=(16, 16), stride=(16, 16), bias=False)\n",
       "    (patch_dropout): Identity()\n",
       "    (ln_pre): LayerNorm((768,), eps=1e-05, elementwise_affine=True)\n",
       "    (transformer): Transformer(\n",
       "      (resblocks): ModuleList(\n",
       "        (0-11): 12 x ResidualAttentionBlock(\n",
       "          (ln_1): LayerNorm((768,), eps=1e-05, elementwise_affine=True)\n",
       "          (attn): MultiheadAttention(\n",
       "            (out_proj): NonDynamicallyQuantizableLinear(in_features=768, out_features=768, bias=True)\n",
       "          )\n",
       "          (ls_1): Identity()\n",
       "          (ln_2): LayerNorm((768,), eps=1e-05, elementwise_affine=True)\n",
       "          (mlp): Sequential(\n",
       "            (c_fc): Linear(in_features=768, out_features=3072, bias=True)\n",
       "            (gelu): GELU(approximate='none')\n",
       "            (c_proj): Linear(in_features=3072, out_features=768, bias=True)\n",
       "          )\n",
       "          (ls_2): Identity()\n",
       "        )\n",
       "      )\n",
       "    )\n",
       "    (ln_post): LayerNorm((768,), eps=1e-05, elementwise_affine=True)\n",
       "  )\n",
       "  (transformer): Transformer(\n",
       "    (resblocks): ModuleList(\n",
       "      (0-11): 12 x ResidualAttentionBlock(\n",
       "        (ln_1): LayerNorm((512,), eps=1e-05, elementwise_affine=True)\n",
       "        (attn): MultiheadAttention(\n",
       "          (out_proj): NonDynamicallyQuantizableLinear(in_features=512, out_features=512, bias=True)\n",
       "        )\n",
       "        (ls_1): Identity()\n",
       "        (ln_2): LayerNorm((512,), eps=1e-05, elementwise_affine=True)\n",
       "        (mlp): Sequential(\n",
       "          (c_fc): Linear(in_features=512, out_features=2048, bias=True)\n",
       "          (gelu): GELU(approximate='none')\n",
       "          (c_proj): Linear(in_features=2048, out_features=512, bias=True)\n",
       "        )\n",
       "        (ls_2): Identity()\n",
       "      )\n",
       "    )\n",
       "  )\n",
       "  (token_embedding): Embedding(49408, 512)\n",
       "  (ln_final): LayerNorm((512,), eps=1e-05, elementwise_affine=True)\n",
       ")"
      ]
     },
     "execution_count": 2,
     "metadata": {},
     "output_type": "execute_result"
    }
   ],
   "source": [
    "model, _, preprocess = open_clip.create_model_and_transforms(target)\n",
    "model.to(device)"
   ]
  },
  {
   "cell_type": "markdown",
   "id": "e21247e4",
   "metadata": {},
   "source": [
    "Get a list of all images."
   ]
  },
  {
   "cell_type": "code",
   "execution_count": 3,
   "id": "64eb066b",
   "metadata": {},
   "outputs": [
    {
     "data": {
      "text/plain": [
       "24999"
      ]
     },
     "execution_count": 3,
     "metadata": {},
     "output_type": "execute_result"
    }
   ],
   "source": [
    "fnames = glob.glob('data/unsplash-512/*.png')\n",
    "len(fnames)"
   ]
  },
  {
   "cell_type": "markdown",
   "id": "c2572b25",
   "metadata": {},
   "source": [
    "Loop over batches of 32 images and generate embeddings."
   ]
  },
  {
   "cell_type": "code",
   "execution_count": 4,
   "id": "9c096b7b",
   "metadata": {},
   "outputs": [
    {
     "name": "stderr",
     "output_type": "stream",
     "text": [
      "100%|███████████████████████████████████████████████████████████████████████████████████████████████████████████████████████| 782/782 [07:26<00:00,  1.75it/s]\n"
     ]
    }
   ],
   "source": [
    "BATCH_SIZE = 32\n",
    "image_features = []\n",
    "for i in tqdm(range(0, len(fnames), BATCH_SIZE)):\n",
    "    image_batch = torch.tensor(np.stack([preprocess(Image.open(fname)) for fname in fnames[i:i+BATCH_SIZE]]))\n",
    "    image_batch_features = model.encode_image(image_batch.to(device)).float()\n",
    "    image_features.append(image_batch_features.cpu().detach().numpy())\n",
    "    del image_batch\n",
    "    torch.cuda.empty_cache()"
   ]
  },
  {
   "cell_type": "markdown",
   "id": "c8ee9115",
   "metadata": {},
   "source": [
    "Normalize. Not strictly necessary for COSINE similarity, but this will allow us to experiment with different similarity/distance metrics."
   ]
  },
  {
   "cell_type": "code",
   "execution_count": 5,
   "id": "bd2ba032",
   "metadata": {},
   "outputs": [],
   "source": [
    "image_features = np.vstack(image_features)\n",
    "image_features /= np.linalg.norm(image_features, axis=1, keepdims=True)"
   ]
  },
  {
   "cell_type": "markdown",
   "id": "edf148ef",
   "metadata": {},
   "source": [
    "Persist to hdf5 file. Import to keep vectors and associated filenames aligned."
   ]
  },
  {
   "cell_type": "code",
   "execution_count": 6,
   "id": "a1c26dec",
   "metadata": {},
   "outputs": [],
   "source": [
    "with h5py.File('data/unsplash-25k.hdf5', 'w') as f:\n",
    "    group = f.create_group('unsplash-512')\n",
    "    group.create_dataset('vectors', data=image_features)\n",
    "    group.create_dataset('fnames', data=fnames)"
   ]
  }
 ],
 "metadata": {
  "kernelspec": {
   "display_name": "Python [conda env:vectordb]",
   "language": "python",
   "name": "conda-env-vectordb-py"
  },
  "language_info": {
   "codemirror_mode": {
    "name": "ipython",
    "version": 3
   },
   "file_extension": ".py",
   "mimetype": "text/x-python",
   "name": "python",
   "nbconvert_exporter": "python",
   "pygments_lexer": "ipython3",
   "version": "3.9.18"
  }
 },
 "nbformat": 4,
 "nbformat_minor": 5
}
