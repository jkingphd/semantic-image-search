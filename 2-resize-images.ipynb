{
 "cells": [
  {
   "cell_type": "code",
   "execution_count": 1,
   "id": "fbd462b1",
   "metadata": {},
   "outputs": [],
   "source": [
    "from concurrent.futures import ThreadPoolExecutor\n",
    "from tqdm import tqdm\n",
    "from PIL import Image\n",
    "import glob\n",
    "import os\n",
    "\n",
    "BASE_IN = 'data/unsplash-raw'\n",
    "BASE_OUT = 'data/unsplash-512'\n",
    "if not os.path.exists(BASE_OUT):\n",
    "    os.makedirs(BASE_OUT)\n",
    "DIM = (512, 512) # We are using the thumbnail method, which sets the max dimension to 512 while maintaining the original aspect ratio\n",
    "Image.MAX_IMAGE_PIXELS = None # This prevents PIL from crashing when loading a large image"
   ]
  },
  {
   "cell_type": "code",
   "execution_count": 2,
   "id": "ad79f278",
   "metadata": {},
   "outputs": [],
   "source": [
    "def resize_image(fname, photo_id, base_out=BASE_OUT, dim=DIM):\n",
    "    try:\n",
    "        img = Image.open(fname)\n",
    "        img.thumbnail(dim)\n",
    "        img.save(f'{base_out}/{photo_id}')\n",
    "        result = True\n",
    "    except:\n",
    "        result = False\n",
    "    return result"
   ]
  },
  {
   "cell_type": "markdown",
   "id": "40663bfd",
   "metadata": {},
   "source": [
    "Get a list of all the files to resize and then run through a Thread pool."
   ]
  },
  {
   "cell_type": "code",
   "execution_count": 3,
   "id": "9acf2db0",
   "metadata": {},
   "outputs": [
    {
     "data": {
      "text/plain": [
       "25000"
      ]
     },
     "execution_count": 3,
     "metadata": {},
     "output_type": "execute_result"
    }
   ],
   "source": [
    "fnames = glob.glob(f'{BASE_IN}/*.png')\n",
    "photo_ids = [fname.split('/')[-1] for fname in fnames]\n",
    "len(fnames)"
   ]
  },
  {
   "cell_type": "code",
   "execution_count": 4,
   "id": "1cbd12ef",
   "metadata": {},
   "outputs": [
    {
     "name": "stderr",
     "output_type": "stream",
     "text": [
      "25000it [15:32, 26.80it/s]\n"
     ]
    }
   ],
   "source": [
    "with ThreadPoolExecutor(max_workers=32) as executor:\n",
    "    results = list(tqdm(executor.map(resize_image, fnames, photo_ids)))"
   ]
  },
  {
   "cell_type": "markdown",
   "id": "038dc6e1",
   "metadata": {},
   "source": [
    "The earlier notebook had no controls for missing/broken links, and as a result not every file from data/unsplash_raw/ will have a corresponding resized image in data/unsplash-512/\n",
    "\n",
    "This is a known issue with the dataset and is beyond the control of the end-user, as the license does not allow for sharing of the scraped photos."
   ]
  }
 ],
 "metadata": {
  "kernelspec": {
   "display_name": "Python [conda env:vectordb]",
   "language": "python",
   "name": "conda-env-vectordb-py"
  },
  "language_info": {
   "codemirror_mode": {
    "name": "ipython",
    "version": 3
   },
   "file_extension": ".py",
   "mimetype": "text/x-python",
   "name": "python",
   "nbconvert_exporter": "python",
   "pygments_lexer": "ipython3",
   "version": "3.9.18"
  }
 },
 "nbformat": 4,
 "nbformat_minor": 5
}
